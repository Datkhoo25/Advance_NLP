{
  "cells": [
    {
      "cell_type": "markdown",
      "metadata": {
        "id": "view-in-github",
        "colab_type": "text"
      },
      "source": [
        "<a href=\"https://colab.research.google.com/github/Datkhoo25/Advance_NLP/blob/master/8_RFE_DT_Bayes_Impute.ipynb\" target=\"_parent\"><img src=\"https://colab.research.google.com/assets/colab-badge.svg\" alt=\"Open In Colab\"/></a>"
      ]
    },
    {
      "cell_type": "code",
      "execution_count": null,
      "metadata": {
        "id": "69OhFAnVx55a",
        "colab": {
          "base_uri": "https://localhost:8080/"
        },
        "outputId": "806553f5-5768-4d35-cd45-e7a6c97db3e8"
      },
      "outputs": [
        {
          "output_type": "stream",
          "name": "stdout",
          "text": [
            "Mounted at /content/drive\n"
          ]
        }
      ],
      "source": [
        "from google.colab import drive\n",
        "drive.mount('/content/drive', timeout_ms=300000)"
      ]
    },
    {
      "cell_type": "code",
      "execution_count": null,
      "metadata": {
        "id": "1r183ZGTona4"
      },
      "outputs": [],
      "source": [
        "import pandas as pd\n",
        "import numpy as np\n",
        "import openpyxl\n",
        "from scipy.stats import randint, uniform\n",
        "\n",
        "from scipy.optimize import fmin_powell\n",
        "from sklearn.preprocessing import LabelEncoder\n",
        "\n",
        "from sklearn.metrics import log_loss\n",
        "from sklearn.ensemble import RandomForestClassifier\n",
        "from sklearn.model_selection import RandomizedSearchCV\n",
        "from sklearn.model_selection import train_test_split\n",
        "from sklearn import ensemble\n",
        "from sklearn.ensemble import GradientBoostingClassifier\n",
        "from xgboost import XGBClassifier\n",
        "from sklearn.linear_model import LogisticRegression\n",
        "from sklearn.metrics import accuracy_score,  roc_auc_score, f1_score, precision_score, recall_score, classification_report, confusion_matrix, r2_score\n",
        "\n",
        "from imblearn.over_sampling import SMOTE\n",
        "from imblearn.pipeline import Pipeline"
      ]
    },
    {
      "cell_type": "code",
      "execution_count": null,
      "metadata": {
        "id": "--Fn2wsFa_EL",
        "colab": {
          "base_uri": "https://localhost:8080/"
        },
        "outputId": "96386d32-0aa5-43a3-9f97-dd23576f15c2"
      },
      "outputs": [
        {
          "output_type": "stream",
          "name": "stdout",
          "text": [
            "Requirement already satisfied: tensorflow in /usr/local/lib/python3.10/dist-packages (2.17.0)\n",
            "Requirement already satisfied: absl-py>=1.0.0 in /usr/local/lib/python3.10/dist-packages (from tensorflow) (1.4.0)\n",
            "Requirement already satisfied: astunparse>=1.6.0 in /usr/local/lib/python3.10/dist-packages (from tensorflow) (1.6.3)\n",
            "Requirement already satisfied: flatbuffers>=24.3.25 in /usr/local/lib/python3.10/dist-packages (from tensorflow) (24.3.25)\n",
            "Requirement already satisfied: gast!=0.5.0,!=0.5.1,!=0.5.2,>=0.2.1 in /usr/local/lib/python3.10/dist-packages (from tensorflow) (0.6.0)\n",
            "Requirement already satisfied: google-pasta>=0.1.1 in /usr/local/lib/python3.10/dist-packages (from tensorflow) (0.2.0)\n",
            "Requirement already satisfied: h5py>=3.10.0 in /usr/local/lib/python3.10/dist-packages (from tensorflow) (3.11.0)\n",
            "Requirement already satisfied: libclang>=13.0.0 in /usr/local/lib/python3.10/dist-packages (from tensorflow) (18.1.1)\n",
            "Requirement already satisfied: ml-dtypes<0.5.0,>=0.3.1 in /usr/local/lib/python3.10/dist-packages (from tensorflow) (0.4.0)\n",
            "Requirement already satisfied: opt-einsum>=2.3.2 in /usr/local/lib/python3.10/dist-packages (from tensorflow) (3.3.0)\n",
            "Requirement already satisfied: packaging in /usr/local/lib/python3.10/dist-packages (from tensorflow) (24.1)\n",
            "Requirement already satisfied: protobuf!=4.21.0,!=4.21.1,!=4.21.2,!=4.21.3,!=4.21.4,!=4.21.5,<5.0.0dev,>=3.20.3 in /usr/local/lib/python3.10/dist-packages (from tensorflow) (3.20.3)\n",
            "Requirement already satisfied: requests<3,>=2.21.0 in /usr/local/lib/python3.10/dist-packages (from tensorflow) (2.32.3)\n",
            "Requirement already satisfied: setuptools in /usr/local/lib/python3.10/dist-packages (from tensorflow) (71.0.4)\n",
            "Requirement already satisfied: six>=1.12.0 in /usr/local/lib/python3.10/dist-packages (from tensorflow) (1.16.0)\n",
            "Requirement already satisfied: termcolor>=1.1.0 in /usr/local/lib/python3.10/dist-packages (from tensorflow) (2.4.0)\n",
            "Requirement already satisfied: typing-extensions>=3.6.6 in /usr/local/lib/python3.10/dist-packages (from tensorflow) (4.12.2)\n",
            "Requirement already satisfied: wrapt>=1.11.0 in /usr/local/lib/python3.10/dist-packages (from tensorflow) (1.16.0)\n",
            "Requirement already satisfied: grpcio<2.0,>=1.24.3 in /usr/local/lib/python3.10/dist-packages (from tensorflow) (1.64.1)\n",
            "Requirement already satisfied: tensorboard<2.18,>=2.17 in /usr/local/lib/python3.10/dist-packages (from tensorflow) (2.17.0)\n",
            "Requirement already satisfied: keras>=3.2.0 in /usr/local/lib/python3.10/dist-packages (from tensorflow) (3.4.1)\n",
            "Requirement already satisfied: tensorflow-io-gcs-filesystem>=0.23.1 in /usr/local/lib/python3.10/dist-packages (from tensorflow) (0.37.1)\n",
            "Requirement already satisfied: numpy<2.0.0,>=1.23.5 in /usr/local/lib/python3.10/dist-packages (from tensorflow) (1.26.4)\n",
            "Requirement already satisfied: wheel<1.0,>=0.23.0 in /usr/local/lib/python3.10/dist-packages (from astunparse>=1.6.0->tensorflow) (0.44.0)\n",
            "Requirement already satisfied: rich in /usr/local/lib/python3.10/dist-packages (from keras>=3.2.0->tensorflow) (13.7.1)\n",
            "Requirement already satisfied: namex in /usr/local/lib/python3.10/dist-packages (from keras>=3.2.0->tensorflow) (0.0.8)\n",
            "Requirement already satisfied: optree in /usr/local/lib/python3.10/dist-packages (from keras>=3.2.0->tensorflow) (0.12.1)\n",
            "Requirement already satisfied: charset-normalizer<4,>=2 in /usr/local/lib/python3.10/dist-packages (from requests<3,>=2.21.0->tensorflow) (3.3.2)\n",
            "Requirement already satisfied: idna<4,>=2.5 in /usr/local/lib/python3.10/dist-packages (from requests<3,>=2.21.0->tensorflow) (3.7)\n",
            "Requirement already satisfied: urllib3<3,>=1.21.1 in /usr/local/lib/python3.10/dist-packages (from requests<3,>=2.21.0->tensorflow) (2.0.7)\n",
            "Requirement already satisfied: certifi>=2017.4.17 in /usr/local/lib/python3.10/dist-packages (from requests<3,>=2.21.0->tensorflow) (2024.7.4)\n",
            "Requirement already satisfied: markdown>=2.6.8 in /usr/local/lib/python3.10/dist-packages (from tensorboard<2.18,>=2.17->tensorflow) (3.6)\n",
            "Requirement already satisfied: tensorboard-data-server<0.8.0,>=0.7.0 in /usr/local/lib/python3.10/dist-packages (from tensorboard<2.18,>=2.17->tensorflow) (0.7.2)\n",
            "Requirement already satisfied: werkzeug>=1.0.1 in /usr/local/lib/python3.10/dist-packages (from tensorboard<2.18,>=2.17->tensorflow) (3.0.3)\n",
            "Requirement already satisfied: MarkupSafe>=2.1.1 in /usr/local/lib/python3.10/dist-packages (from werkzeug>=1.0.1->tensorboard<2.18,>=2.17->tensorflow) (2.1.5)\n",
            "Requirement already satisfied: markdown-it-py>=2.2.0 in /usr/local/lib/python3.10/dist-packages (from rich->keras>=3.2.0->tensorflow) (3.0.0)\n",
            "Requirement already satisfied: pygments<3.0.0,>=2.13.0 in /usr/local/lib/python3.10/dist-packages (from rich->keras>=3.2.0->tensorflow) (2.16.1)\n",
            "Requirement already satisfied: mdurl~=0.1 in /usr/local/lib/python3.10/dist-packages (from markdown-it-py>=2.2.0->rich->keras>=3.2.0->tensorflow) (0.1.2)\n",
            "Requirement already satisfied: keras in /usr/local/lib/python3.10/dist-packages (3.4.1)\n",
            "Requirement already satisfied: absl-py in /usr/local/lib/python3.10/dist-packages (from keras) (1.4.0)\n",
            "Requirement already satisfied: numpy in /usr/local/lib/python3.10/dist-packages (from keras) (1.26.4)\n",
            "Requirement already satisfied: rich in /usr/local/lib/python3.10/dist-packages (from keras) (13.7.1)\n",
            "Requirement already satisfied: namex in /usr/local/lib/python3.10/dist-packages (from keras) (0.0.8)\n",
            "Requirement already satisfied: h5py in /usr/local/lib/python3.10/dist-packages (from keras) (3.11.0)\n",
            "Requirement already satisfied: optree in /usr/local/lib/python3.10/dist-packages (from keras) (0.12.1)\n",
            "Requirement already satisfied: ml-dtypes in /usr/local/lib/python3.10/dist-packages (from keras) (0.4.0)\n",
            "Requirement already satisfied: packaging in /usr/local/lib/python3.10/dist-packages (from keras) (24.1)\n",
            "Requirement already satisfied: typing-extensions>=4.5.0 in /usr/local/lib/python3.10/dist-packages (from optree->keras) (4.12.2)\n",
            "Requirement already satisfied: markdown-it-py>=2.2.0 in /usr/local/lib/python3.10/dist-packages (from rich->keras) (3.0.0)\n",
            "Requirement already satisfied: pygments<3.0.0,>=2.13.0 in /usr/local/lib/python3.10/dist-packages (from rich->keras) (2.16.1)\n",
            "Requirement already satisfied: mdurl~=0.1 in /usr/local/lib/python3.10/dist-packages (from markdown-it-py>=2.2.0->rich->keras) (0.1.2)\n"
          ]
        }
      ],
      "source": [
        "!pip install tensorflow\n",
        "!pip install keras"
      ]
    },
    {
      "cell_type": "code",
      "execution_count": null,
      "metadata": {
        "id": "tz_IeV32WKRc",
        "colab": {
          "base_uri": "https://localhost:8080/"
        },
        "outputId": "f4cb3869-98b1-45a9-c2bf-6a8ea344edb9"
      },
      "outputs": [
        {
          "output_type": "stream",
          "name": "stdout",
          "text": [
            "\u001b[?25l   \u001b[90m━━━━━━━━━━━━━━━━━━━━━━━━━━━━━━━━━━━━━━━━\u001b[0m \u001b[32m0.0/129.1 kB\u001b[0m \u001b[31m?\u001b[0m eta \u001b[36m-:--:--\u001b[0m\r\u001b[2K   \u001b[91m━━━━━━━━━━━━━━━━━━━━━━━━━━━━━━━━━━━━━━\u001b[0m\u001b[90m╺\u001b[0m\u001b[90m━\u001b[0m \u001b[32m122.9/129.1 kB\u001b[0m \u001b[31m4.1 MB/s\u001b[0m eta \u001b[36m0:00:01\u001b[0m\r\u001b[2K   \u001b[90m━━━━━━━━━━━━━━━━━━━━━━━━━━━━━━━━━━━━━━━━\u001b[0m \u001b[32m129.1/129.1 kB\u001b[0m \u001b[31m2.9 MB/s\u001b[0m eta \u001b[36m0:00:00\u001b[0m\n",
            "\u001b[?25h"
          ]
        },
        {
          "output_type": "stream",
          "name": "stderr",
          "text": [
            "<ipython-input-4-670abaa5fb26>:13: DeprecationWarning: `import kerastuner` is deprecated, please use `import keras_tuner`.\n",
            "  import kerastuner as kt\n"
          ]
        }
      ],
      "source": [
        "!pip install -q -U keras-tuner\n",
        "from tensorflow import keras\n",
        "from keras.models import Sequential\n",
        "from keras.layers import Dense, Dropout\n",
        "from keras.initializers import HeNormal, GlorotNormal, LecunNormal\n",
        "\n",
        "from keras import regularizers\n",
        "from keras.layers import Dropout\n",
        "from keras.losses import sparse_categorical_crossentropy\n",
        "from keras.optimizers import Adam, SGD\n",
        "\n",
        "\n",
        "import kerastuner as kt\n",
        "from kerastuner.tuners import RandomSearch\n",
        "from kerastuner import Objective\n",
        "\n",
        "from keras.callbacks import History\n",
        "from keras.callbacks import Callback, EarlyStopping\n",
        "from keras.metrics import Accuracy, Recall, Precision\n"
      ]
    },
    {
      "cell_type": "code",
      "execution_count": null,
      "metadata": {
        "id": "b0ukCAVRrNry",
        "colab": {
          "base_uri": "https://localhost:8080/"
        },
        "outputId": "7ee3f423-2f4b-404c-a2e3-944b94217b55"
      },
      "outputs": [
        {
          "output_type": "stream",
          "name": "stdout",
          "text": [
            "\n",
            "Sheet: X_train_bayes_imp_wNA_dt_rfe\n",
            "\n",
            "Sheet: X_val_bayes_imp_wNA_dt_rfe\n",
            "\n",
            "Sheet: test_df_bayes_imp_wNA_dt_rfe\n",
            "\n",
            "Sheet: y_train\n",
            "\n",
            "Sheet: y_val\n"
          ]
        }
      ],
      "source": [
        "# Specify the path to your Excel file\n",
        "workbook_path = '/content/drive/MyDrive/Colab Notebooks/Insurance Dataset/Preprocessing_Checkpoint/bayes_Impute_wNA_dt_rfe.xlsx'\n",
        "\n",
        "# Load the workbook\n",
        "wb = openpyxl.load_workbook(workbook_path)\n",
        "\n",
        "# Get sheet names\n",
        "sheet_names = wb.sheetnames\n",
        "\n",
        "# Container for DataFrames\n",
        "dfs = {}\n",
        "\n",
        "# Iterate through each sheet\n",
        "for sheet_name in sheet_names:\n",
        "    print(f\"\\nSheet: {sheet_name}\")\n",
        "    sheet = wb[sheet_name]\n",
        "\n",
        "    # Extract headers (first row)\n",
        "    headers = [cell.value for cell in sheet[1]]\n",
        "    # print(f\"Headers: {headers}\")\n",
        "\n",
        "    # Extract data rows\n",
        "    data = []\n",
        "    for row in sheet.iter_rows(min_row=2, values_only=True):\n",
        "        data.append(row)\n",
        "    # print(\"Data:\")\n",
        "    # for row in data:\n",
        "    #     print(row)\n",
        "\n",
        "    # Convert data to DataFrame\n",
        "    df = pd.DataFrame(data, columns=headers)\n",
        "    dfs[sheet_name] = df"
      ]
    },
    {
      "cell_type": "code",
      "execution_count": null,
      "metadata": {
        "id": "tuaI5x4prUxn",
        "colab": {
          "base_uri": "https://localhost:8080/"
        },
        "outputId": "8441440c-b4fb-477d-91b9-ff785c432d8d"
      },
      "outputs": [
        {
          "output_type": "stream",
          "name": "stdout",
          "text": [
            "\n",
            "DataFrames:\n",
            "\n",
            "DataFrame: X_train_bayes_imp_wNA_dt_rfe\n",
            "\n",
            "DataFrame: X_val_bayes_imp_wNA_dt_rfe\n",
            "\n",
            "DataFrame: test_df_bayes_imp_wNA_dt_rfe\n",
            "\n",
            "DataFrame: y_train\n",
            "\n",
            "DataFrame: y_val\n",
            "['X_train_bayes_imp_wNA_dt_rfe', 'X_val_bayes_imp_wNA_dt_rfe', 'test_df_bayes_imp_wNA_dt_rfe', 'y_train', 'y_val']\n"
          ]
        }
      ],
      "source": [
        "# Access your DataFrames from the dictionary `dfs`\n",
        "print(\"\\nDataFrames:\")\n",
        "for name, df in dfs.items():\n",
        "    print(f\"\\nDataFrame: {name}\")\n",
        "    name = df\n",
        "\n",
        "print(sheet_names)"
      ]
    },
    {
      "cell_type": "code",
      "execution_count": null,
      "metadata": {
        "id": "pXYo-zt92_ii"
      },
      "outputs": [],
      "source": [
        "x_train, x_val, x_test, y_train, y_val = dfs.items()\n",
        "x_train_m = x_train[1]\n",
        "x_val_m = x_val[1]\n",
        "x_test_m = x_test[1]\n",
        "y_train_m = y_train[1]\n",
        "y_val_m = y_val[1]"
      ]
    },
    {
      "cell_type": "code",
      "execution_count": null,
      "metadata": {
        "id": "rec4PpvsN2HX"
      },
      "outputs": [],
      "source": [
        "x_train = x_train_m\n",
        "x_val = x_val_m\n",
        "x_test = x_test_m\n",
        "y_train = y_train_m\n",
        "y_val = y_val_m"
      ]
    },
    {
      "cell_type": "code",
      "execution_count": null,
      "metadata": {
        "id": "xvE3waWc2_lI",
        "colab": {
          "base_uri": "https://localhost:8080/"
        },
        "outputId": "96fa7136-32a5-48e5-96a0-a9b976a93a04"
      },
      "outputs": [
        {
          "output_type": "stream",
          "name": "stdout",
          "text": [
            "(47504, 200) (47504, 1)\n",
            "(11877, 200) (11877, 1)\n"
          ]
        }
      ],
      "source": [
        "print(x_train_m.shape, y_train_m.shape)\n",
        "print(x_val_m.shape, y_val_m.shape)\n"
      ]
    },
    {
      "cell_type": "code",
      "execution_count": null,
      "metadata": {
        "id": "FN0oy0ntlK7q",
        "colab": {
          "base_uri": "https://localhost:8080/",
          "height": 115
        },
        "outputId": "59b035f6-8a69-45b0-b6a3-27456614e830"
      },
      "outputs": [
        {
          "output_type": "execute_result",
          "data": {
            "text/plain": [
              "None    8\n",
              "dtype: int64"
            ],
            "text/html": [
              "<div>\n",
              "<style scoped>\n",
              "    .dataframe tbody tr th:only-of-type {\n",
              "        vertical-align: middle;\n",
              "    }\n",
              "\n",
              "    .dataframe tbody tr th {\n",
              "        vertical-align: top;\n",
              "    }\n",
              "\n",
              "    .dataframe thead th {\n",
              "        text-align: right;\n",
              "    }\n",
              "</style>\n",
              "<table border=\"1\" class=\"dataframe\">\n",
              "  <thead>\n",
              "    <tr style=\"text-align: right;\">\n",
              "      <th></th>\n",
              "      <th>0</th>\n",
              "    </tr>\n",
              "  </thead>\n",
              "  <tbody>\n",
              "    <tr>\n",
              "      <th>None</th>\n",
              "      <td>8</td>\n",
              "    </tr>\n",
              "  </tbody>\n",
              "</table>\n",
              "</div><br><label><b>dtype:</b> int64</label>"
            ]
          },
          "metadata": {},
          "execution_count": 10
        }
      ],
      "source": [
        "y_train_m.max()"
      ]
    },
    {
      "cell_type": "code",
      "execution_count": null,
      "metadata": {
        "id": "AnmZQvwcDbzg",
        "colab": {
          "base_uri": "https://localhost:8080/"
        },
        "outputId": "4cbd3bed-c414-47fd-e1e0-afd5bd662678"
      },
      "outputs": [
        {
          "output_type": "stream",
          "name": "stderr",
          "text": [
            "/usr/local/lib/python3.10/dist-packages/sklearn/preprocessing/_label.py:114: DataConversionWarning: A column-vector y was passed when a 1d array was expected. Please change the shape of y to (n_samples, ), for example using ravel().\n",
            "  y = column_or_1d(y, warn=True)\n",
            "/usr/local/lib/python3.10/dist-packages/sklearn/preprocessing/_label.py:132: DataConversionWarning: A column-vector y was passed when a 1d array was expected. Please change the shape of y to (n_samples, ), for example using ravel().\n",
            "  y = column_or_1d(y, dtype=self.classes_.dtype, warn=True)\n"
          ]
        }
      ],
      "source": [
        "label_encoder = LabelEncoder()\n",
        "y_train_encoded = label_encoder.fit_transform(y_train)\n",
        "y_val_encoded = label_encoder.transform(y_val)"
      ]
    },
    {
      "cell_type": "markdown",
      "source": [
        "SMOTE"
      ],
      "metadata": {
        "id": "y3E3xKje4WKK"
      }
    },
    {
      "cell_type": "code",
      "source": [
        "int_categorical_columns = x_train.select_dtypes(include=['int']).columns.tolist()\n",
        "print(len(int_categorical_columns))\n",
        "\n",
        "smote1 = SMOTE(sampling_strategy='not majority', random_state=42)\n",
        "x_train_resampled1, y_train_resampled1 = smote1.fit_resample(x_train, y_train_encoded)\n",
        "\n",
        "# Apply thresholding filter to integer categorical columns\n",
        "for col in int_categorical_columns:\n",
        "    x_train_resampled1[col] = np.where(x_train_resampled1[col] > 0.5, 1, 0)"
      ],
      "metadata": {
        "id": "7aElbnGG8zIC",
        "colab": {
          "base_uri": "https://localhost:8080/"
        },
        "outputId": "d2a60b78-0627-4b35-bd93-8f5c139c3cca"
      },
      "execution_count": null,
      "outputs": [
        {
          "output_type": "stream",
          "name": "stdout",
          "text": [
            "190\n"
          ]
        }
      ]
    },
    {
      "cell_type": "code",
      "execution_count": null,
      "metadata": {
        "id": "UWyPseJy2_nx"
      },
      "outputs": [],
      "source": [
        "xgb = XGBClassifier()"
      ]
    },
    {
      "cell_type": "markdown",
      "metadata": {
        "id": "H4DNdLwoaY_8"
      },
      "source": [
        "ANN/DNN"
      ]
    },
    {
      "cell_type": "code",
      "execution_count": null,
      "metadata": {
        "id": "TzIwpFLIyzsQ"
      },
      "outputs": [],
      "source": [
        "def build_model(hp):\n",
        "    input_dim = x_train.shape[1]  # Assuming x_train is defined outside this function\n",
        "\n",
        "    i_model = Sequential()\n",
        "    i_model.add(Dense(100, input_dim=input_dim, activation='linear'))\n",
        "\n",
        "    for each_layer in range(hp.Int(\"Dense Layers\", min_value=1, max_value=4)):\n",
        "        i_model.add(Dense(hp.Choice(f\"layer_{each_layer}_filters\", [30, 60, 90, 120]),\n",
        "        activation=hp.Choice(f\"layer_{each_layer}_activation\", ['relu', 'sigmoid', 'tanh', 'linear']),\n",
        "        kernel_regularizer=regularizers.l2(hp.Float(\"Regularizer_rate\", min_value=0, max_value=0.1))))\n",
        "        i_model.add(Dropout(rate=hp.Float(\"Dropout_rate\", min_value=0, max_value=0.5)))\n",
        "\n",
        "\n",
        "    i_model.add(Dense(8, activation='softmax'))\n",
        "\n",
        "    i_model.compile(optimizer=Adam(learning_rate=0.1),\n",
        "                    loss=sparse_categorical_crossentropy,\n",
        "                    metrics=['accuracy'])\n",
        "\n",
        "    return i_model"
      ]
    },
    {
      "cell_type": "code",
      "execution_count": null,
      "metadata": {
        "id": "50JfTtdHyxnZ",
        "colab": {
          "base_uri": "https://localhost:8080/"
        },
        "outputId": "8b3096d0-87bc-4e8f-cbfb-2c53e4a27fa8"
      },
      "outputs": [
        {
          "output_type": "stream",
          "name": "stdout",
          "text": [
            "Trial 50 Complete [00h 13m 45s]\n",
            "val_accuracy: 0.3243243098258972\n",
            "\n",
            "Best val_accuracy So Far: 0.3451208174228668\n",
            "Total elapsed time: 11h 52m 08s\n"
          ]
        }
      ],
      "source": [
        "\n",
        "tuner = RandomSearch(build_model, objective='val_accuracy', max_trials=50)\n",
        "\n",
        "stop_early = keras.callbacks.EarlyStopping(monitor='val_loss', patience=4)\n",
        "\n",
        "tuner.search(x_train_resampled1, y_train_resampled1, validation_data=(x_val, y_val_encoded), epochs=40, batch_size=3, callbacks=[stop_early])\n",
        "\n"
      ]
    },
    {
      "cell_type": "code",
      "execution_count": null,
      "metadata": {
        "id": "d57CJpE9hglk",
        "colab": {
          "base_uri": "https://localhost:8080/"
        },
        "outputId": "1eaa3184-351c-49c2-f473-d2489874d1bc"
      },
      "outputs": [
        {
          "output_type": "stream",
          "name": "stdout",
          "text": [
            "Dense Layers: 1\n",
            "layer_0_filters: 90\n",
            "layer_0_activation: linear\n",
            "Regularizer_rate: 0.018001956238781324\n",
            "Dropout_rate: 0.200148166750592\n",
            "layer_1_filters: 90\n",
            "layer_1_activation: linear\n",
            "layer_2_filters: 90\n",
            "layer_2_activation: sigmoid\n",
            "layer_3_filters: 30\n",
            "layer_3_activation: tanh\n",
            "layer_4_filters: 30\n",
            "layer_4_activation: sigmoid\n",
            "layer_5_filters: 90\n",
            "layer_5_activation: tanh\n",
            "layer_6_filters: 60\n",
            "layer_6_activation: relu\n",
            "layer_7_filters: 60\n",
            "layer_7_activation: sigmoid\n"
          ]
        }
      ],
      "source": [
        "best_hps = tuner.get_best_hyperparameters(num_trials=1)[0]\n",
        "\n",
        "# Print each hyperparameter and its value\n",
        "for key, value in best_hps.values.items():\n",
        "    print(f\"{key}: {value}\")"
      ]
    },
    {
      "cell_type": "code",
      "execution_count": null,
      "metadata": {
        "id": "HCQ62Kpr7Lmg",
        "colab": {
          "base_uri": "https://localhost:8080/"
        },
        "outputId": "e12f6e0d-75c8-420d-e435-e83b934f233c"
      },
      "outputs": [
        {
          "output_type": "stream",
          "name": "stdout",
          "text": [
            "Best hyperparameters found: <keras_tuner.src.engine.hyperparameters.hyperparameters.HyperParameters object at 0x7a6d2be9fcd0>\n"
          ]
        },
        {
          "output_type": "stream",
          "name": "stderr",
          "text": [
            "/usr/local/lib/python3.10/dist-packages/keras/src/layers/core/dense.py:87: UserWarning: Do not pass an `input_shape`/`input_dim` argument to a layer. When using Sequential models, prefer using an `Input(shape)` object as the first layer in the model instead.\n",
            "  super().__init__(activity_regularizer=activity_regularizer, **kwargs)\n"
          ]
        },
        {
          "output_type": "stream",
          "name": "stdout",
          "text": [
            "Epoch 1/40\n",
            "\u001b[1m3910/3910\u001b[0m \u001b[32m━━━━━━━━━━━━━━━━━━━━\u001b[0m\u001b[37m\u001b[0m \u001b[1m9s\u001b[0m 2ms/step - accuracy: 0.3186 - loss: 190.5591 - val_accuracy: 0.4129 - val_loss: 2.4421\n",
            "Epoch 2/40\n",
            "\u001b[1m3910/3910\u001b[0m \u001b[32m━━━━━━━━━━━━━━━━━━━━\u001b[0m\u001b[37m\u001b[0m \u001b[1m7s\u001b[0m 2ms/step - accuracy: 0.3991 - loss: 1.8655 - val_accuracy: 0.3318 - val_loss: 3.0598\n",
            "Epoch 3/40\n",
            "\u001b[1m3910/3910\u001b[0m \u001b[32m━━━━━━━━━━━━━━━━━━━━\u001b[0m\u001b[37m\u001b[0m \u001b[1m8s\u001b[0m 2ms/step - accuracy: 0.3110 - loss: 190.7133 - val_accuracy: 0.4018 - val_loss: 2.4842\n",
            "Epoch 4/40\n",
            "\u001b[1m3910/3910\u001b[0m \u001b[32m━━━━━━━━━━━━━━━━━━━━\u001b[0m\u001b[37m\u001b[0m \u001b[1m8s\u001b[0m 2ms/step - accuracy: 0.3852 - loss: 1.8907 - val_accuracy: 0.2305 - val_loss: 10.9501\n",
            "Epoch 5/40\n",
            "\u001b[1m3910/3910\u001b[0m \u001b[32m━━━━━━━━━━━━━━━━━━━━\u001b[0m\u001b[37m\u001b[0m \u001b[1m8s\u001b[0m 2ms/step - accuracy: 0.3091 - loss: 177.3725 - val_accuracy: 0.3618 - val_loss: 4.5930\n",
            "dict_keys(['accuracy', 'loss', 'val_accuracy', 'val_loss'])\n"
          ]
        }
      ],
      "source": [
        "best_hps = tuner.get_best_hyperparameters(num_trials=1)[0]\n",
        "print(f\"Best hyperparameters found: {best_hps}\")\n",
        "\n",
        "# Build and train best model\n",
        "best_model = tuner.hypermodel.build(best_hps)\n",
        "history1 = best_model.fit(\n",
        "    x_train_resampled1,\n",
        "    y_train_resampled1,\n",
        "    validation_data=(x_val, y_val_encoded),\n",
        "    epochs=40,\n",
        "    batch_size=32,\n",
        "    verbose=1,  # Ensure verbosity is set appropriately\n",
        "    callbacks=[stop_early])\n",
        "\n",
        "# Access training history\n",
        "print(history1.history.keys())  # Print available metrics in history"
      ]
    },
    {
      "cell_type": "code",
      "execution_count": null,
      "metadata": {
        "id": "1NalFtxjstvj",
        "colab": {
          "base_uri": "https://localhost:8080/",
          "height": 263
        },
        "outputId": "9ed21d0b-3582-4e8f-e814-47fe8f4278e9"
      },
      "outputs": [
        {
          "output_type": "execute_result",
          "data": {
            "text/plain": [
              "<Figure size 640x480 with 0 Axes>"
            ]
          },
          "metadata": {},
          "execution_count": 30
        },
        {
          "output_type": "display_data",
          "data": {
            "text/plain": [
              "<Figure size 640x480 with 1 Axes>"
            ],
            "image/png": "[encoded data removed]"
          },
          "metadata": {}
        },
        {
          "output_type": "display_data",
          "data": {
            "text/plain": [
              "<Figure size 640x480 with 0 Axes>"
            ]
          },
          "metadata": {}
        }
      ],
      "source": [
        "accuracy1 = history1.history['accuracy']\n",
        "val_accuracy1 = history1.history['val_accuracy']\n",
        "epochs_range1 = range(len(accuracy1))\n",
        "\n",
        "import matplotlib.pyplot as plt\n",
        "\n",
        "plt.plot(epochs_range1, accuracy1,'b',label='Train accuracy')\n",
        "plt.plot(epochs_range1, val_accuracy1,'r',label='Val accuracy')\n",
        "plt.legend()\n",
        "plt.figure()\n",
        "\n"
      ]
    },
    {
      "cell_type": "code",
      "execution_count": null,
      "metadata": {
        "id": "jWMUymEu8BSp",
        "colab": {
          "base_uri": "https://localhost:8080/"
        },
        "outputId": "c283d9a2-2108-46a3-c075-a2ffc33b0319"
      },
      "outputs": [
        {
          "output_type": "stream",
          "name": "stdout",
          "text": [
            "\u001b[1m372/372\u001b[0m \u001b[32m━━━━━━━━━━━━━━━━━━━━\u001b[0m\u001b[37m\u001b[0m \u001b[1m0s\u001b[0m 1ms/step\n",
            "Accuracy: 0.3617916982402964\n",
            "Precision: 0.3617916982402964\n",
            "Recall: 0.3617916982402964\n"
          ]
        }
      ],
      "source": [
        "# Assuming y_pred is obtained from best_model.predict(x_val)\n",
        "y_pred1 = best_model.predict(x_val)\n",
        "\n",
        "# Convert y_pred probabilities to integer labels\n",
        "y_pred_labels1 = np.argmax(y_pred1, axis=1)\n",
        "\n",
        "# Compute metrics with integer labels\n",
        "accuracy1 = accuracy_score(y_val_encoded, y_pred_labels1)\n",
        "print(f\"Accuracy: {accuracy1}\")\n",
        "\n",
        "precision1 = precision_score(y_val_encoded, y_pred_labels1, average='micro')\n",
        "print(f\"Precision: {precision1}\")\n",
        "\n",
        "recall1 = recall_score(y_val_encoded, y_pred_labels1, average='micro')\n",
        "print(f\"Recall: {recall1}\")"
      ]
    },
    {
      "cell_type": "code",
      "source": [],
      "metadata": {
        "id": "MNwZcE-JDUqc"
      },
      "execution_count": null,
      "outputs": []
    },
    {
      "cell_type": "code",
      "source": [
        "# Assuming y_pred is obtained from best_model.predict(x_val)\n",
        "y_pred2 = best_model.predict(x_val)\n",
        "\n",
        "# Convert y_pred probabilities to integer labels\n",
        "y_pred_labels2 = np.argmax(y_pred2, axis=1)\n",
        "\n",
        "# Compute metrics with integer labels\n",
        "accuracy2 = accuracy_score(y_val_encoded, y_pred_labels2)\n",
        "print(f\"Accuracy: {accuracy2}\")\n",
        "\n",
        "precision2 = precision_score(y_val_encoded, y_pred_labels2, average='micro')\n",
        "print(f\"Precision: {precision2}\")\n",
        "\n",
        "recall2 = recall_score(y_val_encoded, y_pred_labels2, average='micro')\n",
        "print(f\"Recall: {recall2}\")"
      ],
      "metadata": {
        "id": "GNEwIkfbEXNQ"
      },
      "execution_count": null,
      "outputs": []
    },
    {
      "cell_type": "code",
      "source": [],
      "metadata": {
        "id": "epmAqAXsE_Aq"
      },
      "execution_count": null,
      "outputs": []
    },
    {
      "cell_type": "code",
      "source": [
        "best_hps = tuner.get_best_hyperparameters(num_trials=1)[0]\n",
        "print(f\"Best hyperparameters found: {best_hps}\")\n",
        "\n",
        "# Build and train best model\n",
        "best_model = tuner.hypermodel.build(best_hps)\n",
        "history3 = best_model.fit(\n",
        "    x_train,\n",
        "    y_train_encoded,\n",
        "    validation_data=(x_val, y_val_encoded),\n",
        "    epochs=50,\n",
        "    batch_size=32,\n",
        "    verbose=1,  # Ensure verbosity is set appropriately\n",
        "    callbacks=[stop_early])\n",
        "\n",
        "# Access training history\n",
        "print(history3.history.keys())  # Print available metrics in history"
      ],
      "metadata": {
        "id": "frO-NvSpE_N4"
      },
      "execution_count": null,
      "outputs": []
    },
    {
      "cell_type": "code",
      "source": [
        "accuracy3 = history3.history['accuracy']\n",
        "val_accuracy3 = history3.history['val_accuracy']\n",
        "epochs_range3 = range(len(accuracy3))\n",
        "\n",
        "import matplotlib.pyplot as plt\n",
        "\n",
        "plt.plot(epochs_range3, accuracy3,'b',label='Train accuracy')\n",
        "plt.plot(epochs_range3, val_accuracy3,'r',label='Val accuracy')\n",
        "plt.legend()\n",
        "plt.figure()"
      ],
      "metadata": {
        "id": "U5Kj5YspFXS7",
        "colab": {
          "base_uri": "https://localhost:8080/",
          "height": 465
        },
        "outputId": "17a483f7-6991-4d73-fc3a-d333cd313711"
      },
      "execution_count": null,
      "outputs": [
        {
          "output_type": "execute_result",
          "data": {
            "text/plain": [
              "<Figure size 640x480 with 0 Axes>"
            ]
          },
          "metadata": {},
          "execution_count": 29
        },
        {
          "output_type": "display_data",
          "data": {
            "text/plain": [
              "<Figure size 640x480 with 1 Axes>"
            ],
            "image/png": "[encoded data removed]"
          },
          "metadata": {}
        },
        {
          "output_type": "display_data",
          "data": {
            "text/plain": [
              "<Figure size 640x480 with 0 Axes>"
            ]
          },
          "metadata": {}
        }
      ]
    },
    {
      "cell_type": "code",
      "source": [
        "# Assuming y_pred is obtained from best_model.predict(x_val)\n",
        "y_pred3 = best_model.predict(x_val)\n",
        "\n",
        "# Convert y_pred probabilities to integer labels\n",
        "y_pred_labels3 = np.argmax(y_pred3, axis=1)\n",
        "\n",
        "# Compute metrics with integer labels\n",
        "accuracy3 = accuracy_score(y_val_encoded, y_pred_labels3)\n",
        "print(f\"Accuracy: {accuracy3}\")\n",
        "\n",
        "precision3 = precision_score(y_val_encoded, y_pred_labels3, average='micro')\n",
        "print(f\"Precision: {precision2}\")\n",
        "\n",
        "recall3 = recall_score(y_val_encoded, y_pred_labels3, average='micro')\n",
        "print(f\"Recall: {recall2}\")"
      ],
      "metadata": {
        "id": "wR_frgV7FdQm",
        "colab": {
          "base_uri": "https://localhost:8080/"
        },
        "outputId": "ca4ec9ca-08a0-4f58-d3d6-73ba2c1a5a4d"
      },
      "execution_count": null,
      "outputs": [
        {
          "metadata": {
            "tags": null
          },
          "name": "stdout",
          "output_type": "stream",
          "text": [
            "372/372 [==============================] - 1s 2ms/step\n",
            "Accuracy: 0.32432432432432434\n",
            "Precision: 0.017428643596867896\n",
            "Recall: 0.017428643596867896\n"
          ]
        }
      ]
    }
  ],
  "metadata": {
    "colab": {
      "machine_shape": "hm",
      "provenance": [],
      "mount_file_id": "1lSz9j_gXZ0m7HP7tJVfRUXL19g0fMbGm",
      "authorship_tag": "ABX9TyMx4hLJYD1B4ToPNTOIP/0U",
      "include_colab_link": true
    },
    "kernelspec": {
      "display_name": "Python 3",
      "name": "python3"
    },
    "language_info": {
      "name": "python"
    }
  },
  "nbformat": 4,
  "nbformat_minor": 0
}